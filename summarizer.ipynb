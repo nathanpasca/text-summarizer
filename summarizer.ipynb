{
  "cells": [
    {
      "cell_type": "code",
      "execution_count": 3,
      "metadata": {
        "colab": {
          "base_uri": "https://localhost:8080/"
        },
        "id": "5WiM0fEFaD6R",
        "outputId": "e22e196a-b4a4-450b-98bc-bccc25b16797"
      },
      "outputs": [
        {
          "name": "stderr",
          "output_type": "stream",
          "text": [
            "/home/nathanpasca/projects/text-summarizer/venv/lib/python3.12/site-packages/tqdm/auto.py:21: TqdmWarning: IProgress not found. Please update jupyter and ipywidgets. See https://ipywidgets.readthedocs.io/en/stable/user_install.html\n",
            "  from .autonotebook import tqdm as notebook_tqdm\n",
            "2025-04-21 14:11:10.490008: I tensorflow/core/util/port.cc:153] oneDNN custom operations are on. You may see slightly different numerical results due to floating-point round-off errors from different computation orders. To turn them off, set the environment variable `TF_ENABLE_ONEDNN_OPTS=0`.\n",
            "2025-04-21 14:11:10.491432: I external/local_xla/xla/tsl/cuda/cudart_stub.cc:32] Could not find cuda drivers on your machine, GPU will not be used.\n",
            "2025-04-21 14:11:10.497691: I external/local_xla/xla/tsl/cuda/cudart_stub.cc:32] Could not find cuda drivers on your machine, GPU will not be used.\n",
            "2025-04-21 14:11:10.509447: E external/local_xla/xla/stream_executor/cuda/cuda_fft.cc:467] Unable to register cuFFT factory: Attempting to register factory for plugin cuFFT when one has already been registered\n",
            "WARNING: All log messages before absl::InitializeLog() is called are written to STDERR\n",
            "E0000 00:00:1745219470.530536    6683 cuda_dnn.cc:8579] Unable to register cuDNN factory: Attempting to register factory for plugin cuDNN when one has already been registered\n",
            "E0000 00:00:1745219470.534742    6683 cuda_blas.cc:1407] Unable to register cuBLAS factory: Attempting to register factory for plugin cuBLAS when one has already been registered\n",
            "W0000 00:00:1745219470.551517    6683 computation_placer.cc:177] computation placer already registered. Please check linkage and avoid linking the same target more than once.\n",
            "W0000 00:00:1745219470.551558    6683 computation_placer.cc:177] computation placer already registered. Please check linkage and avoid linking the same target more than once.\n",
            "W0000 00:00:1745219470.551560    6683 computation_placer.cc:177] computation placer already registered. Please check linkage and avoid linking the same target more than once.\n",
            "W0000 00:00:1745219470.551561    6683 computation_placer.cc:177] computation placer already registered. Please check linkage and avoid linking the same target more than once.\n",
            "2025-04-21 14:11:10.557375: I tensorflow/core/platform/cpu_feature_guard.cc:210] This TensorFlow binary is optimized to use available CPU instructions in performance-critical operations.\n",
            "To enable the following instructions: AVX2 AVX_VNNI FMA, in other operations, rebuild TensorFlow with the appropriate compiler flags.\n",
            "[nltk_data] Downloading package punkt to\n",
            "[nltk_data]     /home/nathanpasca/nltk_data...\n",
            "[nltk_data]   Package punkt is already up-to-date!\n",
            "[nltk_data] Downloading package stopwords to\n",
            "[nltk_data]     /home/nathanpasca/nltk_data...\n",
            "[nltk_data]   Package stopwords is already up-to-date!\n",
            "[nltk_data] Downloading package punkt_tab to\n",
            "[nltk_data]     /home/nathanpasca/nltk_data...\n",
            "[nltk_data]   Package punkt_tab is already up-to-date!\n"
          ]
        },
        {
          "data": {
            "text/plain": [
              "True"
            ]
          },
          "execution_count": 3,
          "metadata": {},
          "output_type": "execute_result"
        }
      ],
      "source": [
        "import numpy as np\n",
        "import re\n",
        "import nltk\n",
        "import networkx as nx\n",
        "from nltk.tokenize import sent_tokenize\n",
        "from nltk.corpus import stopwords\n",
        "from transformers import pipeline\n",
        "import matplotlib.pyplot as plt\n",
        "\n",
        "# Download necessary NLTK resources\n",
        "nltk.download('punkt')\n",
        "nltk.download('stopwords')\n",
        "nltk.download('punkt_tab')"
      ]
    },
    {
      "cell_type": "code",
      "execution_count": 4,
      "metadata": {
        "id": "GxBm4Vi_cazh"
      },
      "outputs": [],
      "source": [
        "text = \"\"\"Mental disorder has been recognized as a significant public health concern and one of the leading causes of disability worldwide, particularly with the loss of productive years of the sufferer's life (1). The Global Burden of Disease report (2019) highlights an increase, from around 80 million to over 125 million, in the worldwide number of Disability-Adjusted Life Years (DALYs) attributable to mental disorders. With this surge, mental disorders have moved into the top 10 significant causes of DALYs worldwide over the last three decades (2). Furthermore, this data does not include substance use disorders (SUDs), which, if included, would increase the estimated burden manifolds. Moreover, if the caregiver-related burden is accounted for, this figure would be much higher. Individual, social, cultural, political, and economic issues are critical mental wellbeing determinants. An increasing burden of mental diseases can, in turn, contribute to deterioration in physical health and poorer social and economic growth of a country (3). Mental health expenditure is roughly 3–4% of their Gross Domestic Products (GDPs) in developed regions of the world; however, the figure is abysmally low in low-and-middle-income countries (LMICs) (4). Untreated mental health and behavioral problems in childhood and adolescents, in particular, have profound long-term social and economic adverse consequences, including increased contact with the criminal justice system, lower employment rate and lesser wages among those employed, and interpersonal difficulties (5–8).\n",
        "\n",
        "Need for Mental Health (MH) Prevention\n",
        "Longitudinal studies suggest that individuals with a lower level of positive wellbeing are more likely to acquire mental illness (9). Conversely, factors that promote positive wellbeing and resilience among individuals are critical in preventing mental illnesses and better outcomes among those with mental illness (10, 11). For example, in patients with depressive disorders, higher premorbid resilience is associated with earlier responses (12). On the contrary, patients with bipolar affective- and recurrent depressive disorders who have a lower premorbid quality of life are at higher risk of relapses (13).\n",
        "\n",
        "Recently there has been an increased emphasis on the need to promote wellbeing and positive mental health in preventing the development of mental disorders, for poor mental health has significant social and economic implications (14–16). Research also suggests that mental health promotion and preventative measures are cost-effective in preventing or reducing mental illness-related morbidity, both at the society and individual level (17).\n",
        "\n",
        "Although the World Health Organization (WHO) defines health as \"a state of complete physical, mental, and social wellbeing and not merely an absence of disease or infirmity,\" there has been little effort at the global level or stagnation in implementing effective mental health services (18). Moreover, when it comes to the research on mental health (vis-a-viz physical health), promotive and preventive mental health aspects have received less attention vis-a-viz physical health. Instead, greater emphasis has been given to the illness aspect, such as research on psychopathology, mental disorders, and treatment (19, 20). Often, physicians and psychiatrists are unfamiliar with various concepts, approaches, and interventions directed toward mental health promotion and prevention (11, 21).\n",
        "\n",
        "Prevention and promotion of mental health are essential, notably in reducing the growing magnitude of mental illnesses. However, while health promotion and disease prevention are universally regarded concepts in public health, their strategic application for mental health promotion and prevention are often elusive. Furthermore, given the evidence of substantial links between psychological and physical health, the non-incorporation of preventive mental health services is deplorable and has serious ramifications. Therefore, policymakers and health practitioners must be sensitized about linkages between mental- and physical health to effectively implement various mental health promotive and preventive interventions, including in individuals with chronic physical illnesses (18).\n",
        "\n",
        "The magnitude of the mental health problems can be gauged by the fact that about 10–20% of young individuals worldwide experience depression (22). As described above, poor mental health during childhood is associated with adverse health (e.g., substance use and abuse), social (e.g., delinquency), academic (e.g., school failure), and economic (high risk of poverty) adverse outcomes in adulthood (23). Childhood and adolescence are critical periods for setting the ground for physical growth and mental wellbeing (22). Therefore, interventions promoting positive psychology empower youth with the life skills and opportunities to reach their full potential and cope with life's challenges. Comprehensive mental health interventions involving families, schools, and communities have resulted in positive physical and psychological health outcomes. However, the data is limited to high-income countries (HICs) (24–28).\n",
        "\n",
        "In contrast, in low and middle-income countries (LMICs) that bear the greatest brunt of mental health problems, including massive, coupled with a high treatment gap, such interventions remained neglected in public health (29, 30). This issue warrants prompt attention, particularly when global development strategies such as Millennium Development Goals (MDGs) realize the importance of mental health (31). Furthermore, studies have consistently reported that people with socioeconomic disadvantages are at a higher risk of mental illness and associated adverse outcomes; partly, it is attributed to the inequitable distribution of mental health services (32–35).\"\"\"\n"
      ]
    },
    {
      "cell_type": "code",
      "execution_count": 5,
      "metadata": {
        "id": "-pJYi76Ocdhg"
      },
      "outputs": [],
      "source": [
        "def preprocess_text(text):\n",
        "    # Remove special characters and digits\n",
        "    text = re.sub('[^a-zA-Z]', ' ', text)\n",
        "    # Convert to lowercase\n",
        "    text = text.lower()\n",
        "    # Remove extra whitespaces\n",
        "    text = re.sub(r'\\s+', ' ', text).strip()\n",
        "    return text"
      ]
    },
    {
      "cell_type": "code",
      "execution_count": 6,
      "metadata": {
        "id": "lc9X2ruwcgE2"
      },
      "outputs": [],
      "source": [
        "def textrank_summarize(text, num_sentences=5):\n",
        "    # Tokenize text into sentences\n",
        "    sentences = sent_tokenize(text)\n",
        "\n",
        "    # Preprocess each sentence\n",
        "    clean_sentences = [preprocess_text(sentence) for sentence in sentences]\n",
        "\n",
        "    # Initialize stop words\n",
        "    stop_words = set(stopwords.words('english'))\n",
        "\n",
        "    # Create sentence vectors\n",
        "    sentence_vectors = []\n",
        "    for sentence in clean_sentences:\n",
        "        words = sentence.split()\n",
        "        words = [word for word in words if word not in stop_words]\n",
        "        if words:  # Only add non-empty sentences\n",
        "            sentence_vectors.append(words)\n",
        "        else:\n",
        "            sentence_vectors.append(['dummy'])  # Add placeholder for empty sentences\n",
        "\n",
        "    # Create similarity matrix\n",
        "    similarity_matrix = np.zeros((len(sentences), len(sentences)))\n",
        "\n",
        "    # Compute sentence similarities\n",
        "    for i in range(len(sentences)):\n",
        "        for j in range(len(sentences)):\n",
        "            if i != j:  # Skip comparing sentence with itself\n",
        "                # Get word sets for each sentence\n",
        "                words_i = set(sentence_vectors[i])\n",
        "                words_j = set(sentence_vectors[j])\n",
        "\n",
        "                # Calculate Jaccard similarity (simpler than cosine)\n",
        "                if len(words_i) > 0 and len(words_j) > 0:\n",
        "                    intersection = words_i.intersection(words_j)\n",
        "                    union = words_i.union(words_j)\n",
        "                    similarity_matrix[i][j] = len(intersection) / len(union)\n",
        "\n",
        "    # Create graph and apply PageRank\n",
        "    nx_graph = nx.from_numpy_array(similarity_matrix)\n",
        "    scores = nx.pagerank(nx_graph)\n",
        "\n",
        "    # Rank sentences by score\n",
        "    ranked_sentences = sorted(((scores[i], i, s) for i, s in enumerate(sentences)), reverse=True)\n",
        "\n",
        "    # Get top sentences\n",
        "    top_sentences = []\n",
        "    for i in range(min(num_sentences, len(ranked_sentences))):\n",
        "        top_sentences.append(ranked_sentences[i][2])\n",
        "\n",
        "    # Sort by original order\n",
        "    sentence_indices = [sentences.index(sentence) for sentence in top_sentences]\n",
        "    sorted_top_sentences = [x for _, x in sorted(zip(sentence_indices, top_sentences))]\n",
        "\n",
        "    return \"\\n\".join(sorted_top_sentences)"
      ]
    },
    {
      "cell_type": "code",
      "execution_count": 7,
      "metadata": {
        "id": "fhpZ1-ZTcjMF"
      },
      "outputs": [],
      "source": [
        "def transformer_summarize(text, max_length=150, min_length=50):\n",
        "    from transformers import T5ForConditionalGeneration, T5Tokenizer\n",
        "    import torch\n",
        "    from nltk.tokenize import sent_tokenize\n",
        "\n",
        "    # Initialize the summarization model and tokenizer\n",
        "    model_name = \"t5-small\"\n",
        "    try:\n",
        "        tokenizer = T5Tokenizer.from_pretrained(model_name)\n",
        "        model = T5ForConditionalGeneration.from_pretrained(model_name)\n",
        "        # Explicitly use CPU for WSL2 compatibility\n",
        "        model = model.to(\"cpu\")\n",
        "    except Exception as e:\n",
        "        print(f\"Failed to load model {model_name}: {str(e)}\")\n",
        "        return \"Error: Unable to load summarization model.\"\n",
        "\n",
        "    # Custom summarization function\n",
        "    def custom_summarizer(text_chunk):\n",
        "        inputs = tokenizer(\n",
        "            \"summarize: \" + text_chunk,\n",
        "            return_tensors=\"pt\",\n",
        "            max_length=512,\n",
        "            truncation=True\n",
        "        )\n",
        "        summary_ids = model.generate(\n",
        "            inputs[\"input_ids\"].to(\"cpu\"),\n",
        "            max_length=max_length,\n",
        "            min_length=max(10, min_length),\n",
        "            num_beams=4,\n",
        "            length_penalty=2.0,\n",
        "            do_sample=False\n",
        "        )\n",
        "        return tokenizer.decode(summary_ids[0], skip_special_tokens=True)\n",
        "\n",
        "    # Chunking logic\n",
        "    max_chunk_length = 512\n",
        "    sentences = sent_tokenize(text)\n",
        "    current_chunk = []\n",
        "    chunks = []\n",
        "    current_size = 0\n",
        "\n",
        "    for sentence in sentences:\n",
        "        words = sentence.split()\n",
        "        if len(words) > max_chunk_length:\n",
        "            # Handle oversized sentences\n",
        "            temp_sentence = []\n",
        "            temp_size = 0\n",
        "            for word in words:\n",
        "                if temp_size + 1 > max_chunk_length // 2:\n",
        "                    chunks.append(\" \".join(temp_sentence))\n",
        "                    temp_sentence = [word]\n",
        "                    temp_size = 1\n",
        "                else:\n",
        "                    temp_sentence.append(word)\n",
        "                    temp_size += 1\n",
        "            if temp_sentence:\n",
        "                current_chunk.append(\" \".join(temp_sentence))\n",
        "                current_size += len(temp_sentence)\n",
        "        elif current_size + len(words) > max_chunk_length:\n",
        "            chunks.append(\" \".join(current_chunk))\n",
        "            current_chunk = [sentence]\n",
        "            current_size = len(words)\n",
        "        else:\n",
        "            current_chunk.append(sentence)\n",
        "            current_size += len(words)\n",
        "\n",
        "    if current_chunk:\n",
        "        chunks.append(\" \".join(current_chunk))\n",
        "\n",
        "    # Summarize chunks\n",
        "    summaries = []\n",
        "    for i, chunk in enumerate(chunks):\n",
        "        try:\n",
        "            if len(chunk.split()) < min_length:\n",
        "                summaries.append(chunk)\n",
        "                continue\n",
        "            summary = custom_summarizer(chunk)\n",
        "            summaries.append(summary)\n",
        "        except Exception as e:\n",
        "            print(f\"Error summarizing chunk {i}: {str(e)}\")\n",
        "            summaries.append(\" \".join(chunk.split()[:50]) + \"...\")\n",
        "\n",
        "    return \" \".join(summaries)"
      ]
    },
    {
      "cell_type": "code",
      "execution_count": 8,
      "metadata": {
        "colab": {
          "base_uri": "https://localhost:8080/"
        },
        "id": "yPqtPS-XcopW",
        "outputId": "47b53099-9846-423e-a10b-4695c2be3435"
      },
      "outputs": [
        {
          "name": "stdout",
          "output_type": "stream",
          "text": [
            "Generating TextRank summary...\n",
            "\n",
            "TextRank Summary:\n",
            "An increasing burden of mental diseases can, in turn, contribute to deterioration in physical health and poorer social and economic growth of a country (3).\n",
            "Need for Mental Health (MH) Prevention\n",
            "Longitudinal studies suggest that individuals with a lower level of positive wellbeing are more likely to acquire mental illness (9).\n",
            "Recently there has been an increased emphasis on the need to promote wellbeing and positive mental health in preventing the development of mental disorders, for poor mental health has significant social and economic implications (14–16).\n",
            "Prevention and promotion of mental health are essential, notably in reducing the growing magnitude of mental illnesses.\n",
            "Comprehensive mental health interventions involving families, schools, and communities have resulted in positive physical and psychological health outcomes.\n",
            "\n",
            "TextRank Summary Word Count: 121\n",
            "\n",
            "Generating Transformer summary...\n"
          ]
        },
        {
          "name": "stderr",
          "output_type": "stream",
          "text": [
            "You are using the default legacy behaviour of the <class 'transformers.models.t5.tokenization_t5.T5Tokenizer'>. This is expected, and simply means that the `legacy` (previous) behavior will be used so nothing changes for you. If you want to use the new behaviour, set `legacy=False`. This should only be set if you understand what it means, and thoroughly read the reason why this was added as explained in https://github.com/huggingface/transformers/pull/24565\n",
            "Xet Storage is enabled for this repo, but the 'hf_xet' package is not installed. Falling back to regular HTTP download. For better performance, install the package with: `pip install huggingface_hub[hf_xet]` or `pip install hf_xet`\n"
          ]
        },
        {
          "name": "stdout",
          "output_type": "stream",
          "text": [
            "\n",
            "Transformer Summary:\n",
            "mental disorders have moved into the top 10 significant causes of DALYs worldwide over the last three decades (2). if included, this figure would be much higher. individual, social, cultural, political, and economic issues are critical mental wellbeing determinants. mental health expenditure is roughly 3–4% of their gross domestic product (GDPs) in developed regions of the world; however, the figure is abysmally low in low-and-middle-income countries (LMICs) (4). health promotion and disease prevention are universally regarded concepts in public health. but their strategic application for mental health promotion and prevention is often elusive. policymakers and health practitioners must be sensitized about linkages between mental- and physical health to effectively implement various mental health promotive and preventive interventions. poor mental health during childhood is associated with adverse health (e.g., substance use and abuse), social (e.g., delinquency), academic (e.g., school failure) and economic (high\n",
            "\n",
            "Transformer Summary Word Count: 142\n"
          ]
        }
      ],
      "source": [
        "# Get the TextRank summary\n",
        "print(\"Generating TextRank summary...\")\n",
        "textrank_summary = textrank_summarize(text, num_sentences=5)\n",
        "print(\"\\nTextRank Summary:\")\n",
        "print(textrank_summary)\n",
        "print(\"\\nTextRank Summary Word Count:\", len(textrank_summary.split()))\n",
        "\n",
        "# Get the Transformer summary (uncomment if you have enough memory/resources)\n",
        "print(\"\\nGenerating Transformer summary...\")\n",
        "try:\n",
        "    transformer_summary = transformer_summarize(text)\n",
        "    print(\"\\nTransformer Summary:\")\n",
        "    print(transformer_summary)\n",
        "    print(\"\\nTransformer Summary Word Count:\", len(transformer_summary.split()))\n",
        "except Exception as e:\n",
        "    print(f\"\\nError generating transformer summary: {e}\")\n",
        "    print(\"This might be due to memory constraints in Google Colab. Try using a GPU runtime or skip this part.\")\n",
        "    transformer_summary = \"Error generating summary.\""
      ]
    },
    {
      "cell_type": "code",
      "execution_count": 9,
      "metadata": {
        "colab": {
          "base_uri": "https://localhost:8080/"
        },
        "id": "LRN_lLlscqH1",
        "outputId": "d6df4172-6566-4b28-c2f9-21b3d972059e"
      },
      "outputs": [
        {
          "name": "stdout",
          "output_type": "stream",
          "text": [
            "\n",
            "Original Text Word Count: 814\n",
            "\n",
            "Comparison Metrics:\n",
            "Original Text: 814 words, 32 sentences\n",
            "TextRank Summary: 121 words, 5 sentences\n",
            "TextRank Compression Ratio: 14.86%\n",
            "Transformer Summary: 142 words, 8 sentences\n",
            "Transformer Compression Ratio: 17.44%\n"
          ]
        }
      ],
      "source": [
        "print(\"\\nOriginal Text Word Count:\", len(text.split()))\n",
        "original_sentences = sent_tokenize(text)\n",
        "textrank_sentences = sent_tokenize(textrank_summary)\n",
        "\n",
        "print(\"\\nComparison Metrics:\")\n",
        "print(f\"Original Text: {len(text.split())} words, {len(original_sentences)} sentences\")\n",
        "print(f\"TextRank Summary: {len(textrank_summary.split())} words, {len(textrank_sentences)} sentences\")\n",
        "print(f\"TextRank Compression Ratio: {len(textrank_summary.split()) / len(text.split()) * 100:.2f}%\")\n",
        "\n",
        "if transformer_summary != \"Error generating summary.\":\n",
        "    transformer_sentences = sent_tokenize(transformer_summary)\n",
        "    print(f\"Transformer Summary: {len(transformer_summary.split())} words, {len(transformer_sentences)} sentences\")\n",
        "    print(f\"Transformer Compression Ratio: {len(transformer_summary.split()) / len(text.split()) * 100:.2f}%\")"
      ]
    },
    {
      "cell_type": "code",
      "execution_count": 10,
      "metadata": {
        "colab": {
          "base_uri": "https://localhost:8080/",
          "height": 507
        },
        "id": "l_MZPz5YcuPi",
        "outputId": "bbd94a85-477c-42a6-9055-5e444ddb0318"
      },
      "outputs": [
        {
          "data": {
            "image/png": "[encoded data removed]",
            "text/plain": [
              "<Figure size 1200x500 with 2 Axes>"
            ]
          },
          "metadata": {},
          "output_type": "display_data"
        }
      ],
      "source": [
        "try:\n",
        "    # Simple visualization\n",
        "    labels = ['Original Text']\n",
        "    word_counts = [len(text.split())]\n",
        "    sentence_counts = [len(original_sentences)]\n",
        "\n",
        "    # Add TextRank data\n",
        "    labels.append('TextRank')\n",
        "    word_counts.append(len(textrank_summary.split()))\n",
        "    sentence_counts.append(len(textrank_sentences))\n",
        "\n",
        "    # Add Transformer data if available\n",
        "    if transformer_summary != \"Error generating summary.\":\n",
        "        labels.append('Transformer')\n",
        "        word_counts.append(len(transformer_summary.split()))\n",
        "        sentence_counts.append(len(transformer_sentences))\n",
        "\n",
        "    # Create plots\n",
        "    fig, (ax1, ax2) = plt.subplots(1, 2, figsize=(12, 5))\n",
        "\n",
        "    ax1.bar(labels, word_counts, color=['gray', 'blue', 'green'][:len(labels)])\n",
        "    ax1.set_title('Word Count Comparison')\n",
        "    ax1.set_ylabel('Number of Words')\n",
        "\n",
        "    ax2.bar(labels, sentence_counts, color=['gray', 'blue', 'green'][:len(labels)])\n",
        "    ax2.set_title('Sentence Count Comparison')\n",
        "    ax2.set_ylabel('Number of Sentences')\n",
        "\n",
        "    plt.tight_layout()\n",
        "    plt.show()\n",
        "except Exception as e:\n",
        "    print(f\"Error creating visualization: {e}\")"
      ]
    }
  ],
  "metadata": {
    "colab": {
      "provenance": []
    },
    "kernelspec": {
      "display_name": "venv",
      "language": "python",
      "name": "python3"
    },
    "language_info": {
      "codemirror_mode": {
        "name": "ipython",
        "version": 3
      },
      "file_extension": ".py",
      "mimetype": "text/x-python",
      "name": "python",
      "nbconvert_exporter": "python",
      "pygments_lexer": "ipython3",
      "version": "3.12.3"
    }
  },
  "nbformat": 4,
  "nbformat_minor": 0
}
