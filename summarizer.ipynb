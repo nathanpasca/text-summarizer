{
  "nbformat": 4,
  "nbformat_minor": 0,
  "metadata": {
    "colab": {
      "provenance": []
    },
    "kernelspec": {
      "name": "python3",
      "display_name": "Python 3"
    },
    "language_info": {
      "name": "python"
    }
  },
  "cells": [
    {
      "cell_type": "code",
      "execution_count": null,
      "metadata": {
        "colab": {
          "base_uri": "https://localhost:8080/"
        },
        "id": "5WiM0fEFaD6R",
        "outputId": "e22e196a-b4a4-450b-98bc-bccc25b16797"
      },
      "outputs": [
        {
          "output_type": "stream",
          "name": "stdout",
          "text": [
            "Requirement already satisfied: networkx in /usr/local/lib/python3.11/dist-packages (3.4.2)\n",
            "Requirement already satisfied: transformers in /usr/local/lib/python3.11/dist-packages (4.48.3)\n",
            "Requirement already satisfied: matplotlib in /usr/local/lib/python3.11/dist-packages (3.10.0)\n",
            "Requirement already satisfied: nltk in /usr/local/lib/python3.11/dist-packages (3.9.1)\n",
            "Requirement already satisfied: filelock in /usr/local/lib/python3.11/dist-packages (from transformers) (3.17.0)\n",
            "Requirement already satisfied: huggingface-hub<1.0,>=0.24.0 in /usr/local/lib/python3.11/dist-packages (from transformers) (0.28.1)\n",
            "Requirement already satisfied: numpy>=1.17 in /usr/local/lib/python3.11/dist-packages (from transformers) (1.26.4)\n",
            "Requirement already satisfied: packaging>=20.0 in /usr/local/lib/python3.11/dist-packages (from transformers) (24.2)\n",
            "Requirement already satisfied: pyyaml>=5.1 in /usr/local/lib/python3.11/dist-packages (from transformers) (6.0.2)\n",
            "Requirement already satisfied: regex!=2019.12.17 in /usr/local/lib/python3.11/dist-packages (from transformers) (2024.11.6)\n",
            "Requirement already satisfied: requests in /usr/local/lib/python3.11/dist-packages (from transformers) (2.32.3)\n",
            "Requirement already satisfied: tokenizers<0.22,>=0.21 in /usr/local/lib/python3.11/dist-packages (from transformers) (0.21.0)\n",
            "Requirement already satisfied: safetensors>=0.4.1 in /usr/local/lib/python3.11/dist-packages (from transformers) (0.5.3)\n",
            "Requirement already satisfied: tqdm>=4.27 in /usr/local/lib/python3.11/dist-packages (from transformers) (4.67.1)\n",
            "Requirement already satisfied: contourpy>=1.0.1 in /usr/local/lib/python3.11/dist-packages (from matplotlib) (1.3.1)\n",
            "Requirement already satisfied: cycler>=0.10 in /usr/local/lib/python3.11/dist-packages (from matplotlib) (0.12.1)\n",
            "Requirement already satisfied: fonttools>=4.22.0 in /usr/local/lib/python3.11/dist-packages (from matplotlib) (4.56.0)\n",
            "Requirement already satisfied: kiwisolver>=1.3.1 in /usr/local/lib/python3.11/dist-packages (from matplotlib) (1.4.8)\n",
            "Requirement already satisfied: pillow>=8 in /usr/local/lib/python3.11/dist-packages (from matplotlib) (11.1.0)\n",
            "Requirement already satisfied: pyparsing>=2.3.1 in /usr/local/lib/python3.11/dist-packages (from matplotlib) (3.2.1)\n",
            "Requirement already satisfied: python-dateutil>=2.7 in /usr/local/lib/python3.11/dist-packages (from matplotlib) (2.8.2)\n",
            "Requirement already satisfied: click in /usr/local/lib/python3.11/dist-packages (from nltk) (8.1.8)\n",
            "Requirement already satisfied: joblib in /usr/local/lib/python3.11/dist-packages (from nltk) (1.4.2)\n",
            "Requirement already satisfied: fsspec>=2023.5.0 in /usr/local/lib/python3.11/dist-packages (from huggingface-hub<1.0,>=0.24.0->transformers) (2024.10.0)\n",
            "Requirement already satisfied: typing-extensions>=3.7.4.3 in /usr/local/lib/python3.11/dist-packages (from huggingface-hub<1.0,>=0.24.0->transformers) (4.12.2)\n",
            "Requirement already satisfied: six>=1.5 in /usr/local/lib/python3.11/dist-packages (from python-dateutil>=2.7->matplotlib) (1.17.0)\n",
            "Requirement already satisfied: charset-normalizer<4,>=2 in /usr/local/lib/python3.11/dist-packages (from requests->transformers) (3.4.1)\n",
            "Requirement already satisfied: idna<4,>=2.5 in /usr/local/lib/python3.11/dist-packages (from requests->transformers) (3.10)\n",
            "Requirement already satisfied: urllib3<3,>=1.21.1 in /usr/local/lib/python3.11/dist-packages (from requests->transformers) (2.3.0)\n",
            "Requirement already satisfied: certifi>=2017.4.17 in /usr/local/lib/python3.11/dist-packages (from requests->transformers) (2025.1.31)\n"
          ]
        },
        {
          "output_type": "stream",
          "name": "stderr",
          "text": [
            "[nltk_data] Downloading package punkt to /root/nltk_data...\n",
            "[nltk_data]   Package punkt is already up-to-date!\n",
            "[nltk_data] Downloading package stopwords to /root/nltk_data...\n",
            "[nltk_data]   Package stopwords is already up-to-date!\n"
          ]
        },
        {
          "output_type": "execute_result",
          "data": {
            "text/plain": [
              "True"
            ]
          },
          "metadata": {},
          "execution_count": 5
        }
      ],
      "source": [
        "!pip install networkx transformers matplotlib nltk\n",
        "\n",
        "import numpy as np\n",
        "import re\n",
        "import nltk\n",
        "import networkx as nx\n",
        "from nltk.tokenize import sent_tokenize\n",
        "from nltk.corpus import stopwords\n",
        "from transformers import pipeline\n",
        "import matplotlib.pyplot as plt\n",
        "\n",
        "# Download necessary NLTK resources\n",
        "nltk.download('punkt')\n",
        "nltk.download('stopwords')"
      ]
    },
    {
      "cell_type": "code",
      "source": [
        "text = \"\"\"Mental disorder has been recognized as a significant public health concern and one of the leading causes of disability worldwide, particularly with the loss of productive years of the sufferer's life (1). The Global Burden of Disease report (2019) highlights an increase, from around 80 million to over 125 million, in the worldwide number of Disability-Adjusted Life Years (DALYs) attributable to mental disorders. With this surge, mental disorders have moved into the top 10 significant causes of DALYs worldwide over the last three decades (2). Furthermore, this data does not include substance use disorders (SUDs), which, if included, would increase the estimated burden manifolds. Moreover, if the caregiver-related burden is accounted for, this figure would be much higher. Individual, social, cultural, political, and economic issues are critical mental wellbeing determinants. An increasing burden of mental diseases can, in turn, contribute to deterioration in physical health and poorer social and economic growth of a country (3). Mental health expenditure is roughly 3–4% of their Gross Domestic Products (GDPs) in developed regions of the world; however, the figure is abysmally low in low-and-middle-income countries (LMICs) (4). Untreated mental health and behavioral problems in childhood and adolescents, in particular, have profound long-term social and economic adverse consequences, including increased contact with the criminal justice system, lower employment rate and lesser wages among those employed, and interpersonal difficulties (5–8).\n",
        "\n",
        "Need for Mental Health (MH) Prevention\n",
        "Longitudinal studies suggest that individuals with a lower level of positive wellbeing are more likely to acquire mental illness (9). Conversely, factors that promote positive wellbeing and resilience among individuals are critical in preventing mental illnesses and better outcomes among those with mental illness (10, 11). For example, in patients with depressive disorders, higher premorbid resilience is associated with earlier responses (12). On the contrary, patients with bipolar affective- and recurrent depressive disorders who have a lower premorbid quality of life are at higher risk of relapses (13).\n",
        "\n",
        "Recently there has been an increased emphasis on the need to promote wellbeing and positive mental health in preventing the development of mental disorders, for poor mental health has significant social and economic implications (14–16). Research also suggests that mental health promotion and preventative measures are cost-effective in preventing or reducing mental illness-related morbidity, both at the society and individual level (17).\n",
        "\n",
        "Although the World Health Organization (WHO) defines health as \"a state of complete physical, mental, and social wellbeing and not merely an absence of disease or infirmity,\" there has been little effort at the global level or stagnation in implementing effective mental health services (18). Moreover, when it comes to the research on mental health (vis-a-viz physical health), promotive and preventive mental health aspects have received less attention vis-a-viz physical health. Instead, greater emphasis has been given to the illness aspect, such as research on psychopathology, mental disorders, and treatment (19, 20). Often, physicians and psychiatrists are unfamiliar with various concepts, approaches, and interventions directed toward mental health promotion and prevention (11, 21).\n",
        "\n",
        "Prevention and promotion of mental health are essential, notably in reducing the growing magnitude of mental illnesses. However, while health promotion and disease prevention are universally regarded concepts in public health, their strategic application for mental health promotion and prevention are often elusive. Furthermore, given the evidence of substantial links between psychological and physical health, the non-incorporation of preventive mental health services is deplorable and has serious ramifications. Therefore, policymakers and health practitioners must be sensitized about linkages between mental- and physical health to effectively implement various mental health promotive and preventive interventions, including in individuals with chronic physical illnesses (18).\n",
        "\n",
        "The magnitude of the mental health problems can be gauged by the fact that about 10–20% of young individuals worldwide experience depression (22). As described above, poor mental health during childhood is associated with adverse health (e.g., substance use and abuse), social (e.g., delinquency), academic (e.g., school failure), and economic (high risk of poverty) adverse outcomes in adulthood (23). Childhood and adolescence are critical periods for setting the ground for physical growth and mental wellbeing (22). Therefore, interventions promoting positive psychology empower youth with the life skills and opportunities to reach their full potential and cope with life's challenges. Comprehensive mental health interventions involving families, schools, and communities have resulted in positive physical and psychological health outcomes. However, the data is limited to high-income countries (HICs) (24–28).\n",
        "\n",
        "In contrast, in low and middle-income countries (LMICs) that bear the greatest brunt of mental health problems, including massive, coupled with a high treatment gap, such interventions remained neglected in public health (29, 30). This issue warrants prompt attention, particularly when global development strategies such as Millennium Development Goals (MDGs) realize the importance of mental health (31). Furthermore, studies have consistently reported that people with socioeconomic disadvantages are at a higher risk of mental illness and associated adverse outcomes; partly, it is attributed to the inequitable distribution of mental health services (32–35).\"\"\"\n"
      ],
      "metadata": {
        "id": "GxBm4Vi_cazh"
      },
      "execution_count": null,
      "outputs": []
    },
    {
      "cell_type": "code",
      "source": [
        "def preprocess_text(text):\n",
        "    # Remove special characters and digits\n",
        "    text = re.sub('[^a-zA-Z]', ' ', text)\n",
        "    # Convert to lowercase\n",
        "    text = text.lower()\n",
        "    # Remove extra whitespaces\n",
        "    text = re.sub(r'\\s+', ' ', text).strip()\n",
        "    return text"
      ],
      "metadata": {
        "id": "-pJYi76Ocdhg"
      },
      "execution_count": null,
      "outputs": []
    },
    {
      "cell_type": "code",
      "source": [
        "def textrank_summarize(text, num_sentences=5):\n",
        "    # Tokenize text into sentences\n",
        "    sentences = sent_tokenize(text)\n",
        "\n",
        "    # Preprocess each sentence\n",
        "    clean_sentences = [preprocess_text(sentence) for sentence in sentences]\n",
        "\n",
        "    # Initialize stop words\n",
        "    stop_words = set(stopwords.words('english'))\n",
        "\n",
        "    # Create sentence vectors\n",
        "    sentence_vectors = []\n",
        "    for sentence in clean_sentences:\n",
        "        words = sentence.split()\n",
        "        words = [word for word in words if word not in stop_words]\n",
        "        if words:  # Only add non-empty sentences\n",
        "            sentence_vectors.append(words)\n",
        "        else:\n",
        "            sentence_vectors.append(['dummy'])  # Add placeholder for empty sentences\n",
        "\n",
        "    # Create similarity matrix\n",
        "    similarity_matrix = np.zeros((len(sentences), len(sentences)))\n",
        "\n",
        "    # Compute sentence similarities\n",
        "    for i in range(len(sentences)):\n",
        "        for j in range(len(sentences)):\n",
        "            if i != j:  # Skip comparing sentence with itself\n",
        "                # Get word sets for each sentence\n",
        "                words_i = set(sentence_vectors[i])\n",
        "                words_j = set(sentence_vectors[j])\n",
        "\n",
        "                # Calculate Jaccard similarity (simpler than cosine)\n",
        "                if len(words_i) > 0 and len(words_j) > 0:\n",
        "                    intersection = words_i.intersection(words_j)\n",
        "                    union = words_i.union(words_j)\n",
        "                    similarity_matrix[i][j] = len(intersection) / len(union)\n",
        "\n",
        "    # Create graph and apply PageRank\n",
        "    nx_graph = nx.from_numpy_array(similarity_matrix)\n",
        "    scores = nx.pagerank(nx_graph)\n",
        "\n",
        "    # Rank sentences by score\n",
        "    ranked_sentences = sorted(((scores[i], i, s) for i, s in enumerate(sentences)), reverse=True)\n",
        "\n",
        "    # Get top sentences\n",
        "    top_sentences = []\n",
        "    for i in range(min(num_sentences, len(ranked_sentences))):\n",
        "        top_sentences.append(ranked_sentences[i][2])\n",
        "\n",
        "    # Sort by original order\n",
        "    sentence_indices = [sentences.index(sentence) for sentence in top_sentences]\n",
        "    sorted_top_sentences = [x for _, x in sorted(zip(sentence_indices, top_sentences))]\n",
        "\n",
        "    return \"\\n\".join(sorted_top_sentences)"
      ],
      "metadata": {
        "id": "lc9X2ruwcgE2"
      },
      "execution_count": null,
      "outputs": []
    },
    {
      "cell_type": "code",
      "source": [
        "def transformer_summarize(text, max_length=150, min_length=50):\n",
        "    # Initialize the summarization pipeline with a tiny model and batch_size=1\n",
        "    try:\n",
        "        summarizer = pipeline(\"summarization\", model=\"facebook/bart-base\", batch_size=1)\n",
        "    except:\n",
        "        # Fallback to an even smaller model\n",
        "        try:\n",
        "            summarizer = pipeline(\"summarization\", model=\"t5-small\", batch_size=1)\n",
        "        except:\n",
        "            # Final fallback to extremely small model\n",
        "            summarizer = pipeline(\"summarization\", model=\"sshleifer/distilbart-xsum-12-3\", batch_size=1)\n",
        "\n",
        "    # Use much smaller chunks to prevent memory issues\n",
        "    max_chunk_length = 512  # Reduced from 1024\n",
        "    sentences = sent_tokenize(text)\n",
        "    current_chunk = []\n",
        "    chunks = []\n",
        "    current_size = 0\n",
        "\n",
        "    # Make sure we don't exceed the token limit\n",
        "    for sentence in sentences:\n",
        "        words = sentence.split()\n",
        "        # If a single sentence is too large, break it up (important fix!)\n",
        "        if len(words) > max_chunk_length:\n",
        "            # Process very long sentences word by word\n",
        "            temp_sentence = []\n",
        "            temp_size = 0\n",
        "            for word in words:\n",
        "                if temp_size + 1 > max_chunk_length//2:  # Even more conservative\n",
        "                    chunks.append(\" \".join(temp_sentence))\n",
        "                    temp_sentence = [word]\n",
        "                    temp_size = 1\n",
        "                else:\n",
        "                    temp_sentence.append(word)\n",
        "                    temp_size += 1\n",
        "            if temp_sentence:\n",
        "                current_chunk.extend(temp_sentence)\n",
        "                current_size += len(temp_sentence)\n",
        "        # Normal case: add whole sentences when possible\n",
        "        elif current_size + len(words) > max_chunk_length:\n",
        "            chunks.append(\" \".join(current_chunk))\n",
        "            current_chunk = [sentence]\n",
        "            current_size = len(words)\n",
        "        else:\n",
        "            current_chunk.append(sentence)\n",
        "            current_size += len(words)\n",
        "\n",
        "    if current_chunk:\n",
        "        chunks.append(\" \".join(current_chunk))\n",
        "\n",
        "    # Summarize each chunk with error handling\n",
        "    summaries = []\n",
        "    for i, chunk in enumerate(chunks):\n",
        "        try:\n",
        "            # Handle empty or very short chunks\n",
        "            if len(chunk.split()) < min_length:\n",
        "                summaries.append(chunk)\n",
        "                continue\n",
        "\n",
        "            # Add error handling for each chunk\n",
        "            result = summarizer(\n",
        "                chunk,\n",
        "                max_length=max_length,\n",
        "                min_length=min(min_length, len(chunk.split())-1),  # Ensure min_length is valid\n",
        "                do_sample=False,\n",
        "                truncation=True\n",
        "            )\n",
        "            summary = result[0]['summary_text']\n",
        "            summaries.append(summary)\n",
        "        except Exception as e:\n",
        "            print(f\"Error summarizing chunk {i}: {str(e)}\")\n",
        "            # If summarization fails, include a portion of the original chunk\n",
        "            summaries.append(\" \".join(chunk.split()[:50]) + \"...\")\n",
        "\n",
        "    return \" \".join(summaries)"
      ],
      "metadata": {
        "id": "fhpZ1-ZTcjMF"
      },
      "execution_count": null,
      "outputs": []
    },
    {
      "cell_type": "code",
      "source": [
        "# Get the TextRank summary\n",
        "print(\"Generating TextRank summary...\")\n",
        "textrank_summary = textrank_summarize(text, num_sentences=5)\n",
        "print(\"\\nTextRank Summary:\")\n",
        "print(textrank_summary)\n",
        "print(\"\\nTextRank Summary Word Count:\", len(textrank_summary.split()))\n",
        "\n",
        "# Get the Transformer summary (uncomment if you have enough memory/resources)\n",
        "print(\"\\nGenerating Transformer summary...\")\n",
        "try:\n",
        "    transformer_summary = transformer_summarize(text)\n",
        "    print(\"\\nTransformer Summary:\")\n",
        "    print(transformer_summary)\n",
        "    print(\"\\nTransformer Summary Word Count:\", len(transformer_summary.split()))\n",
        "except Exception as e:\n",
        "    print(f\"\\nError generating transformer summary: {e}\")\n",
        "    print(\"This might be due to memory constraints in Google Colab. Try using a GPU runtime or skip this part.\")\n",
        "    transformer_summary = \"Error generating summary.\""
      ],
      "metadata": {
        "colab": {
          "base_uri": "https://localhost:8080/"
        },
        "id": "yPqtPS-XcopW",
        "outputId": "47b53099-9846-423e-a10b-4695c2be3435"
      },
      "execution_count": null,
      "outputs": [
        {
          "output_type": "stream",
          "name": "stdout",
          "text": [
            "Generating TextRank summary...\n",
            "\n",
            "TextRank Summary:\n",
            "An increasing burden of mental diseases can, in turn, contribute to deterioration in physical health and poorer social and economic growth of a country (3).\n",
            "Need for Mental Health (MH) Prevention\n",
            "Longitudinal studies suggest that individuals with a lower level of positive wellbeing are more likely to acquire mental illness (9).\n",
            "Recently there has been an increased emphasis on the need to promote wellbeing and positive mental health in preventing the development of mental disorders, for poor mental health has significant social and economic implications (14–16).\n",
            "Prevention and promotion of mental health are essential, notably in reducing the growing magnitude of mental illnesses.\n",
            "Comprehensive mental health interventions involving families, schools, and communities have resulted in positive physical and psychological health outcomes.\n",
            "\n",
            "TextRank Summary Word Count: 121\n",
            "\n",
            "Generating Transformer summary...\n"
          ]
        },
        {
          "output_type": "stream",
          "name": "stderr",
          "text": [
            "Device set to use cpu\n",
            "Asking to truncate to max_length but no maximum length is provided and the model has no predefined maximum length. Default to no truncation.\n"
          ]
        },
        {
          "output_type": "stream",
          "name": "stdout",
          "text": [
            "\n",
            "Transformer Summary:\n",
            "Mental disorder has been recognized as a significant public health concern and one of the leading causes of disability worldwide, particularly with the loss of productive years of the sufferer's life (1). The Global Burden of Disease report (2019) highlights an increase, from around 80 million to over 125 million, in the worldwide number of Disability-Adjusted Life Years (DALYs) attributable to mental disorders. With this surge, mental disorders have moved into the top 10 significant causes of DALYS worldwide over the last three decades (2). Furthermore, this data does not include substance use disorders (SUDs), which, if included, would increase the estimated burden manifolds. Moreover, if the caregiver-related However, while health promotion and disease prevention are universally regarded concepts in public health, their strategic application for mental health prevention are often elusive. Furthermore, given the evidence of substantial links between psychological and physical health, the non-incorporation of preventive mental health services is deplorable and has serious ramifications. Therefore, policymakers and health practitioners must be sensitized about linkages between mental- and mental health to effectively implement various mental health promotive and preventive interventions, including in individuals with chronic physical illnesses (18). The magnitude of the mental health problems can be gauged by the fact that about 10–20% of young individuals worldwide experience depression (22). As described above, poor mental health during childhood is associated with adverse health (e.\n",
            "\n",
            "Transformer Summary Word Count: 227\n"
          ]
        }
      ]
    },
    {
      "cell_type": "code",
      "source": [
        "print(\"\\nOriginal Text Word Count:\", len(text.split()))\n",
        "original_sentences = sent_tokenize(text)\n",
        "textrank_sentences = sent_tokenize(textrank_summary)\n",
        "\n",
        "print(\"\\nComparison Metrics:\")\n",
        "print(f\"Original Text: {len(text.split())} words, {len(original_sentences)} sentences\")\n",
        "print(f\"TextRank Summary: {len(textrank_summary.split())} words, {len(textrank_sentences)} sentences\")\n",
        "print(f\"TextRank Compression Ratio: {len(textrank_summary.split()) / len(text.split()) * 100:.2f}%\")\n",
        "\n",
        "if transformer_summary != \"Error generating summary.\":\n",
        "    transformer_sentences = sent_tokenize(transformer_summary)\n",
        "    print(f\"Transformer Summary: {len(transformer_summary.split())} words, {len(transformer_sentences)} sentences\")\n",
        "    print(f\"Transformer Compression Ratio: {len(transformer_summary.split()) / len(text.split()) * 100:.2f}%\")"
      ],
      "metadata": {
        "colab": {
          "base_uri": "https://localhost:8080/"
        },
        "id": "LRN_lLlscqH1",
        "outputId": "d6df4172-6566-4b28-c2f9-21b3d972059e"
      },
      "execution_count": null,
      "outputs": [
        {
          "output_type": "stream",
          "name": "stdout",
          "text": [
            "\n",
            "Original Text Word Count: 814\n",
            "\n",
            "Comparison Metrics:\n",
            "Original Text: 814 words, 32 sentences\n",
            "TextRank Summary: 121 words, 5 sentences\n",
            "TextRank Compression Ratio: 14.86%\n",
            "Transformer Summary: 227 words, 9 sentences\n",
            "Transformer Compression Ratio: 27.89%\n"
          ]
        }
      ]
    },
    {
      "cell_type": "code",
      "source": [
        "try:\n",
        "    # Simple visualization\n",
        "    labels = ['Original Text']\n",
        "    word_counts = [len(text.split())]\n",
        "    sentence_counts = [len(original_sentences)]\n",
        "\n",
        "    # Add TextRank data\n",
        "    labels.append('TextRank')\n",
        "    word_counts.append(len(textrank_summary.split()))\n",
        "    sentence_counts.append(len(textrank_sentences))\n",
        "\n",
        "    # Add Transformer data if available\n",
        "    if transformer_summary != \"Error generating summary.\":\n",
        "        labels.append('Transformer')\n",
        "        word_counts.append(len(transformer_summary.split()))\n",
        "        sentence_counts.append(len(transformer_sentences))\n",
        "\n",
        "    # Create plots\n",
        "    fig, (ax1, ax2) = plt.subplots(1, 2, figsize=(12, 5))\n",
        "\n",
        "    ax1.bar(labels, word_counts, color=['gray', 'blue', 'green'][:len(labels)])\n",
        "    ax1.set_title('Word Count Comparison')\n",
        "    ax1.set_ylabel('Number of Words')\n",
        "\n",
        "    ax2.bar(labels, sentence_counts, color=['gray', 'blue', 'green'][:len(labels)])\n",
        "    ax2.set_title('Sentence Count Comparison')\n",
        "    ax2.set_ylabel('Number of Sentences')\n",
        "\n",
        "    plt.tight_layout()\n",
        "    plt.show()\n",
        "except Exception as e:\n",
        "    print(f\"Error creating visualization: {e}\")"
      ],
      "metadata": {
        "colab": {
          "base_uri": "https://localhost:8080/",
          "height": 507
        },
        "id": "l_MZPz5YcuPi",
        "outputId": "bbd94a85-477c-42a6-9055-5e444ddb0318"
      },
      "execution_count": null,
      "outputs": [
        {
          "output_type": "display_data",
          "data": {
            "text/plain": [
              "<Figure size 1200x500 with 2 Axes>"
            ],
            "image/png": "[encoded data removed]"
          },
          "metadata": {}
        }
      ]
    }
  ]
}